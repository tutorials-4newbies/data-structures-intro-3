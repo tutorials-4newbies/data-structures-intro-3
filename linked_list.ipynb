{
 "cells": [
  {
   "cell_type": "markdown",
   "metadata": {},
   "source": [
    "Linked lists"
   ]
  },
  {
   "cell_type": "markdown",
   "metadata": {},
   "source": [
    "## We all like working with lists\n",
    "\n",
    "![Cthulhu](./imgs/Cthulhu.jpg)\n",
    "\n",
    "## And then one day, Cthulhu woke from the city and Ate all python lists\n",
    "\n",
    "### Where do we go from here?"
   ]
  },
  {
   "cell_type": "markdown",
   "metadata": {},
   "source": [
    "## Implementing a list - core idea\n",
    "\n",
    "* A linked list is made of \"nodes\"\n",
    "\n",
    "* each node maintains a pointer to the \"next\" node\n",
    "\n",
    "* the base list maintains a pointer to the \"head\" of the list"
   ]
  },
  {
   "cell_type": "markdown",
   "metadata": {},
   "source": [
    "## Implementing a list - the interface\n",
    "    \n",
    "* is_empty\n",
    "\n",
    "* append\n",
    "\n",
    "* pop\n",
    "\n",
    "* size\n",
    "\n",
    "* remove\n",
    "\n",
    "* insert (in specific place)\n",
    "\n",
    "* index (search)\n"
   ]
  },
  {
   "cell_type": "code",
   "execution_count": 33,
   "metadata": {},
   "outputs": [
    {
     "name": "stdout",
     "output_type": "stream",
     "text": [
      "2\n",
      "-1\n"
     ]
    }
   ],
   "source": [
    "# Actual implementing the linked list list\n",
    "\"\"\"\n",
    "amit = > alon => dani\n",
    "list = ['dani', 'alon', 'amit'] amit is the **head**\n",
    "list.append('yair') yair is the **head**\n",
    "\n",
    "\"\"\"\n",
    "\n",
    "class Node:\n",
    "    def __init__(self, value, next = None):\n",
    "        self.value = value\n",
    "        self.next = next\n",
    "        \n",
    "    def __str__(self):\n",
    "        return f\"{self.value}\"\n",
    "    \n",
    "class MyList:\n",
    "    def __init__(self):\n",
    "        self.head = None\n",
    "        \n",
    "        \n",
    "    def is_empty(self)->bool:\n",
    "        pass\n",
    "    \n",
    "    def size(self)->int:\n",
    "        \"\"\"\n",
    "        Two versions:\n",
    "        Dynamic\n",
    "        optimized\n",
    "        \"\"\"\n",
    "        pass\n",
    "    \n",
    "    def add(self, value):\n",
    "        pass\n",
    "    \n",
    "    def pop(self):\n",
    "        pass\n",
    "    \n",
    "    def index(self, value):\n",
    "        pass\n",
    "\n",
    "l = MyList()\n",
    "l.add(1)\n",
    "l.add(2)\n",
    "print(l.size())\n",
    "print(l.index(1))"
   ]
  },
  {
   "cell_type": "code",
   "execution_count": null,
   "metadata": {},
   "outputs": [],
   "source": [
    "# Adding size\n",
    "\n",
    "class MyList:\n",
    "    def is_empty(self)->bool:\n",
    "        pass\n",
    "    \n",
    "    def add(self, value):\n",
    "        pass\n",
    "    \n",
    "    def size(self)-> int:\n",
    "        pass\n",
    "    \n",
    "    def remove(self, value)->None:\n",
    "        \"\"\"\n",
    "        Remove the specific first item from the list while maintaining the rest of the list\n",
    "        \"\"\"\n",
    "        pass\n",
    "    \n",
    "    def index(self, value) -> int:\n",
    "        \"\"\"\n",
    "        return the index (position) of the *first* item in the list\n",
    "        if not there return -1\n",
    "        \"\"\"\n",
    "        pass\n",
    "    \n",
    "    "
   ]
  },
  {
   "cell_type": "code",
   "execution_count": null,
   "metadata": {},
   "outputs": [],
   "source": [
    "# Implementing pop"
   ]
  },
  {
   "cell_type": "code",
   "execution_count": null,
   "metadata": {},
   "outputs": [],
   "source": [
    "# Implementing (unorded) list search"
   ]
  },
  {
   "cell_type": "code",
   "execution_count": null,
   "metadata": {},
   "outputs": [],
   "source": [
    "# Implementing specific place insert"
   ]
  },
  {
   "cell_type": "code",
   "execution_count": null,
   "metadata": {},
   "outputs": [],
   "source": [
    "# How do we remove?\n",
    "# How do we reverse "
   ]
  },
  {
   "cell_type": "markdown",
   "metadata": {},
   "source": [
    "## Big O notation for linked list operations\n",
    "\n",
    "* append/pop/is_empty - Constant time., working on the head\n",
    "\n",
    "* size\n",
    "\n",
    "* index, remove, insert to specific place - \n",
    "\n",
    "* Can we optimize with different kind of search?"
   ]
  },
  {
   "cell_type": "code",
   "execution_count": null,
   "metadata": {},
   "outputs": [],
   "source": [
    "# Supporting __len__ and extra optimization "
   ]
  },
  {
   "cell_type": "code",
   "execution_count": null,
   "metadata": {},
   "outputs": [],
   "source": [
    "# What changes would we need to do to implement an ordered list, what might we gain?"
   ]
  },
  {
   "cell_type": "code",
   "execution_count": null,
   "metadata": {},
   "outputs": [],
   "source": [
    "# The core difference between lists and arrays: No big malloc (memory allocation) \n",
    "\n"
   ]
  }
 ],
 "metadata": {
  "kernelspec": {
   "display_name": "Python 3",
   "language": "python",
   "name": "python3"
  },
  "language_info": {
   "codemirror_mode": {
    "name": "ipython",
    "version": 3
   },
   "file_extension": ".py",
   "mimetype": "text/x-python",
   "name": "python",
   "nbconvert_exporter": "python",
   "pygments_lexer": "ipython3",
   "version": "3.8.1"
  }
 },
 "nbformat": 4,
 "nbformat_minor": 4
}
