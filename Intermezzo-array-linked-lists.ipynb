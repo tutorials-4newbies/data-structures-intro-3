{
 "cells": [
  {
   "cell_type": "markdown",
   "metadata": {},
   "source": [
    "# Intermezzo - revisting linked lists and Arrays"
   ]
  },
  {
   "cell_type": "markdown",
   "metadata": {},
   "source": [
    "## Linked list\n",
    "\n",
    "* Each node has a pointer to the next node\n",
    "* Appending/POP at O(1)\n",
    "* Accessing by address  as `list[2]`: O(n)\n",
    "\n",
    "![Linked list memory](./imgs/Linkedlist.png)"
   ]
  },
  {
   "cell_type": "markdown",
   "metadata": {},
   "source": [
    "## Arrays\n",
    "\n",
    "* Mapped to actual memory - memory should be allocated to the array\n",
    "* Change of size (insert/pop) might be expensive if demands array change O(n) (copying all elements to new array)\n",
    "* Accessing specific address `list[2]` O(1)\n",
    "* **Optimizing** Allocating a bigger array and replacing only when not big enough\n",
    "\n",
    "![array](./imgs/array.jpg)"
   ]
  },
  {
   "cell_type": "code",
   "execution_count": null,
   "metadata": {},
   "outputs": [],
   "source": []
  },
  {
   "cell_type": "code",
   "execution_count": null,
   "metadata": {},
   "outputs": [],
   "source": []
  }
 ],
 "metadata": {
  "kernelspec": {
   "display_name": "Python 3",
   "language": "python",
   "name": "python3"
  },
  "language_info": {
   "codemirror_mode": {
    "name": "ipython",
    "version": 3
   },
   "file_extension": ".py",
   "mimetype": "text/x-python",
   "name": "python",
   "nbconvert_exporter": "python",
   "pygments_lexer": "ipython3",
   "version": "3.8.1"
  }
 },
 "nbformat": 4,
 "nbformat_minor": 4
}
