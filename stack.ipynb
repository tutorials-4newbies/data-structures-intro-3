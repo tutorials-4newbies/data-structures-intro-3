{
 "cells": [
  {
   "cell_type": "markdown",
   "metadata": {},
   "source": [
    "# What is a stack\n",
    "\n",
    "A stack is an ordered collection of items where the addition of new items and the removal of existing items always takes place at the same end. This end is commonly referred to as the “top”, and the opposite end is known as the “base”.\n",
    "\n",
    "Items that are closer to the base have been in the stack the longest. The most recently added item is always on the top of the stack and thus will be removed first. The stack provides an ordering based on length of time in the collection; the “age” of any given item increases as you move from top to base.\n",
    "\n",
    "from [here](https://bradfieldcs.com/algos/stacks/introduction/)"
   ]
  },
  {
   "cell_type": "code",
   "execution_count": 2,
   "metadata": {},
   "outputs": [
    {
     "data": {
      "text/html": [
       "<img src=\"./imgs/stack.jpg\" width=\"600\"/>"
      ],
      "text/plain": [
       "<IPython.core.display.Image object>"
      ]
     },
     "execution_count": 2,
     "metadata": {},
     "output_type": "execute_result"
    }
   ],
   "source": [
    "from IPython.display import Image\n",
    "Image(url='./imgs/stack.jpg', width=600)"
   ]
  },
  {
   "cell_type": "code",
   "execution_count": 1,
   "metadata": {},
   "outputs": [
    {
     "data": {
      "text/html": [
       "<img src=\"./imgs/stock-photo-last-in-first-out-lifo.jpg\" width=\"600\"/>"
      ],
      "text/plain": [
       "<IPython.core.display.Image object>"
      ]
     },
     "execution_count": 1,
     "metadata": {},
     "output_type": "execute_result"
    }
   ],
   "source": [
    "from IPython.display import Image\n",
    "Image(url='./imgs/stock-photo-last-in-first-out-lifo.jpg', width=600)"
   ]
  },
  {
   "cell_type": "markdown",
   "metadata": {},
   "source": [
    "### The stack abstract interface\n",
    "\n",
    "```\n",
    "class Stack:\n",
    "    def push(self, item)\n",
    "        \n",
    "    \n",
    "    def size->int\n",
    "    \n",
    "    def is_empty->bool\n",
    "    \n",
    "    def pop -> item\n",
    "    \n",
    "    def peek -> item (not destructive)\n",
    "```"
   ]
  },
  {
   "cell_type": "code",
   "execution_count": null,
   "metadata": {},
   "outputs": [],
   "source": [
    "# Implementing stack\n",
    "\n",
    "class Stack:\n",
    "    def __init__(self):\n",
    "        pass\n",
    "    \n",
    "    def size(self)->int:\n",
    "        pass\n",
    "    \n",
    "    def is_empty(self)->bool:\n",
    "        pass\n",
    "    \n",
    "    def pop(self):\n",
    "        pass\n",
    "    \n",
    "    def peek(self):\n",
    "        pass\n",
    "    \n",
    "s = Stack()\n",
    "\n",
    "assert s.is_empty()\n",
    "assert s.size == 0\n",
    "\n",
    "s.push(\"War and Peace\")\n",
    "\n",
    "s.push(\"Anna Karenina\")\n",
    "\n",
    "s.push(\"The Death of Ivan Ilyich\")\n",
    "\n",
    "assert s.size == 3\n",
    "\n",
    "res = s.pop()\n",
    "assset res == \"The Death of Ivan Ilyich\"\n",
    "assert s.size == 2\n",
    "\n",
    "res = s.peek()\n",
    "assert res == \"Anna Karenina\"\n",
    "assert s.size == 2\n"
   ]
  },
  {
   "cell_type": "markdown",
   "metadata": {},
   "source": [
    "### Checking Balanced Parentheses\n",
    "\n",
    "How do we know this is a valid expression?\n",
    "\n",
    "\"[(3+4)]\"\n",
    "\n",
    "and this isn't\n",
    "\n",
    "\"(((*(5))\""
   ]
  },
  {
   "cell_type": "code",
   "execution_count": null,
   "metadata": {},
   "outputs": [],
   "source": [
    "opening_symbols = [\"[\", \"{\", \"(\"]\n",
    "\n",
    "def balanced_checker(formula:str)->bool:\n",
    "    \"\"\"\n",
    "    use our stack implementation \n",
    "    Tokenize: Break the string to chars\n",
    "    push opening symbols to stack, pop on relevant closing symbol, \n",
    "    check if they match type\n",
    "    \"\"\"\n",
    "    pass\n",
    "\n",
    "assert balanced_checker(\"[(3+4)]\") is True\n",
    "\n",
    "assert balanced_checker(\"(((*(5))\") is False\n",
    "\n",
    "assert balanced_checker(\"{who is this]]}\") is False"
   ]
  }
 ],
 "metadata": {
  "kernelspec": {
   "display_name": "Python 3",
   "language": "python",
   "name": "python3"
  },
  "language_info": {
   "codemirror_mode": {
    "name": "ipython",
    "version": 3
   },
   "file_extension": ".py",
   "mimetype": "text/x-python",
   "name": "python",
   "nbconvert_exporter": "python",
   "pygments_lexer": "ipython3",
   "version": "3.8.1"
  }
 },
 "nbformat": 4,
 "nbformat_minor": 4
}
