{
 "cells": [
  {
   "cell_type": "markdown",
   "metadata": {},
   "source": [
    "# Hashmap\n",
    "\n",
    "> Hash maps are indexed data structures. A hash map makes use of a hash function to compute an index with a key into an array of buckets or slots. Its value is mapped to the bucket with the corresponding index. The key is unique and immutable. Think of a hash map as a cabinet having drawers with labels for the things stored in them."
   ]
  },
  {
   "cell_type": "markdown",
   "metadata": {},
   "source": [
    "## Hashing?\n",
    "\n",
    "defined as\n",
    "> \"A hash function is any function that can be used to map data of arbitrary size to fixed-size values. The values returned by a hash function are called hash values\" \n",
    "\n",
    "* A hashing function should be consistent (always returning the same number for the same input)\n",
    "\n",
    "* A good hashing function for our needs here would provide a high variability of values"
   ]
  },
  {
   "cell_type": "code",
   "execution_count": 5,
   "metadata": {},
   "outputs": [
    {
     "name": "stdout",
     "output_type": "stream",
     "text": [
      "-2422215460573282236\n"
     ]
    },
    {
     "data": {
      "text/plain": [
       "True"
      ]
     },
     "execution_count": 5,
     "metadata": {},
     "output_type": "execute_result"
    }
   ],
   "source": [
    "# The python builtin hash\n",
    "\n",
    "print(hash(\"whoami\"))\n",
    "\n",
    "hash(\"whoami\") == hash(\"whoami\")"
   ]
  },
  {
   "cell_type": "markdown",
   "metadata": {},
   "source": [
    "## Hashing => bucketing\n",
    "\n",
    "* If hashing provides a consistent value - how can we map it to a \"bucket\" ? \n",
    "\n",
    "* Using [modulo](https://realpython.com/python-modulo-operator/) operator"
   ]
  },
  {
   "cell_type": "code",
   "execution_count": 11,
   "metadata": {},
   "outputs": [
    {
     "name": "stdout",
     "output_type": "stream",
     "text": [
      "None\n",
      "None\n"
     ]
    }
   ],
   "source": [
    "from typing import Union\n",
    "\n",
    "def bucket(value: Union[str,int], number_of_buckets:int):\n",
    "    pass\n",
    "\n",
    "print(bucket(\"Haifa\", 10))\n",
    "print(bucket(\"Israel\", 10))"
   ]
  },
  {
   "cell_type": "code",
   "execution_count": null,
   "metadata": {},
   "outputs": [],
   "source": [
    "# Implementing a hash map (dict)\n",
    "\"\"\"\n",
    "\n",
    "Creates initial list of \"slots\"\n",
    "map add  to slots with bucket function\n",
    "\n",
    "\"\"\"\n",
    "class HashMap:\n",
    "    def __init__(self):\n",
    "        pass\n",
    "    \n",
    "    def add(key, value):\n",
    "        pass\n",
    "    \n",
    "    def remove(key):\n",
    "        pass\n",
    "    \n",
    "    def get(key):\n",
    "        pass\n",
    "    \n",
    "    "
   ]
  },
  {
   "cell_type": "code",
   "execution_count": null,
   "metadata": {},
   "outputs": [],
   "source": [
    "# Growing the hash map\n",
    "\"\"\"\n",
    "What happens when we run out of slots?\n",
    "\"\"\""
   ]
  },
  {
   "cell_type": "code",
   "execution_count": null,
   "metadata": {},
   "outputs": [],
   "source": [
    "# Key collision"
   ]
  },
  {
   "cell_type": "markdown",
   "metadata": {},
   "source": [
    "## Discussion O complexity for Hashmap\n",
    "\n",
    "* Basically depends on how you bucket"
   ]
  },
  {
   "cell_type": "code",
   "execution_count": null,
   "metadata": {},
   "outputs": [],
   "source": [
    "# Extra : support [] annotation see __getattr__ ___setattr__"
   ]
  },
  {
   "cell_type": "markdown",
   "metadata": {},
   "source": [
    "### Read more\n",
    "\n",
    "https://www.geeksforgeeks.org/hash-map-in-python/"
   ]
  }
 ],
 "metadata": {
  "kernelspec": {
   "display_name": "Python 3",
   "language": "python",
   "name": "python3"
  },
  "language_info": {
   "codemirror_mode": {
    "name": "ipython",
    "version": 3
   },
   "file_extension": ".py",
   "mimetype": "text/x-python",
   "name": "python",
   "nbconvert_exporter": "python",
   "pygments_lexer": "ipython3",
   "version": "3.8.1"
  }
 },
 "nbformat": 4,
 "nbformat_minor": 4
}
