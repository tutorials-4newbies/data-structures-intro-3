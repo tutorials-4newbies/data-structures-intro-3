{
 "cells": [
  {
   "cell_type": "markdown",
   "metadata": {},
   "source": [
    "# Hashmap\n",
    "\n",
    "> Hash maps are indexed data structures. A hash map makes use of a hash function to compute an index with a key into an array of buckets or slots. Its value is mapped to the bucket with the corresponding index. The key is unique and immutable. Think of a hash map as a cabinet having drawers with labels for the things stored in them."
   ]
  },
  {
   "cell_type": "markdown",
   "metadata": {},
   "source": [
    "## Hashing?\n",
    "\n",
    "defined as\n",
    "> \"A hash function is any function that can be used to map data of arbitrary size to fixed-size values. The values returned by a hash function are called hash values\" \n",
    "\n",
    "* A hashing function should be consistent (always returning the same number for the same input)\n",
    "\n",
    "* A good hashing function for our needs here would provide a high variability of values"
   ]
  },
  {
   "cell_type": "code",
   "execution_count": 11,
   "metadata": {},
   "outputs": [
    {
     "name": "stdout",
     "output_type": "stream",
     "text": [
      "054\n",
      "054\n"
     ]
    }
   ],
   "source": [
    "def bad_hashing_func(phone_number:str):\n",
    "    hash_value = phone_number[0:3]\n",
    "    return hash_value\n",
    "\n",
    "print(bad_hashing_func(\"0546734469\"))\n",
    "print(bad_hashing_func(\"0546735555\"))"
   ]
  },
  {
   "cell_type": "code",
   "execution_count": 25,
   "metadata": {},
   "outputs": [
    {
     "name": "stdout",
     "output_type": "stream",
     "text": [
      "19\n",
      "15\n"
     ]
    }
   ],
   "source": [
    "def better_hashing_func(phone_number:str):\n",
    "    hash_value = phone_number[7:]\n",
    "    result = sum([int(number) for number in hash_value])\n",
    "    return result\n",
    "\n",
    "print(better_hashing_func(\"0546734469\"))\n",
    "print(better_hashing_func(\"0546735555\"))"
   ]
  },
  {
   "cell_type": "code",
   "execution_count": 27,
   "metadata": {},
   "outputs": [
    {
     "name": "stdout",
     "output_type": "stream",
     "text": [
      "-6209387649712741948\n"
     ]
    },
    {
     "data": {
      "text/plain": [
       "True"
      ]
     },
     "execution_count": 27,
     "metadata": {},
     "output_type": "execute_result"
    }
   ],
   "source": [
    "# The python builtin hash\n",
    "\n",
    "print(hash(\"whoami\"))\n",
    "\n",
    "hash(\"whoami\") == hash(\"whoami\")"
   ]
  },
  {
   "cell_type": "markdown",
   "metadata": {},
   "source": [
    "## Hashing => bucketing\n",
    "\n",
    "* If hashing provides a consistent value - how can we map it to a \"bucket\" ? \n",
    "\n",
    "* Using [modulo](https://realpython.com/python-modulo-operator/) operator"
   ]
  },
  {
   "cell_type": "markdown",
   "metadata": {},
   "source": [
    "## Modulo math\n",
    "\n",
    "The term modulo comes from a branch of mathematics called modular arithmetic. Modular arithmetic deals with integer arithmetic on a circular number line that has a fixed set of numbers. All arithmetic operations performed on this number line will wrap around when they reach a certain number called the modulus.\n",
    "\n",
    "A classic example of modulo in modular arithmetic is the twelve-hour clock. A twelve-hour clock has a fixed set of values, from 1 to 12. When counting on a twelve-hour clock, you count up to the modulus 12 and then wrap back to 1. A twelve-hour clock can be classified as “modulo 12,” sometimes shortened to “mod 12.”\n",
    "\n",
    " \n",
    "![clock](./imgs/clock.gif)\n",
    "\n",
    "How much is 7 + 7 on a 12 hour clock?\n",
    "\n",
    "![tick tock](./imgs/tictock.gif)"
   ]
  },
  {
   "cell_type": "code",
   "execution_count": 7,
   "metadata": {},
   "outputs": [
    {
     "name": "stdout",
     "output_type": "stream",
     "text": [
      "7\n",
      "2\n",
      "7\n",
      "0\n"
     ]
    }
   ],
   "source": [
    "# modulo\n",
    "\n",
    "print(7 % 10)\n",
    "\n",
    "print(12 % 10)\n",
    "\n",
    "print(17 % 10)\n",
    "\n",
    "print(20 % 10)"
   ]
  },
  {
   "cell_type": "markdown",
   "metadata": {},
   "source": [
    "## Bucketing \n",
    "\n",
    "Maping of an unlimited range of numbers to a limited range of buckets\n",
    "\n",
    "```python\n",
    "ages = [1, 3, 9, 16, 22, 45,46,48]\n",
    "\n",
    "buckets = {\n",
    "\"0-18\":[1, 3, 9, 16],\n",
    "\"18-30\":[22],\n",
    "\"31-50\":[45,46,48]\n",
    "\n",
    "}\n",
    "```\n"
   ]
  },
  {
   "cell_type": "code",
   "execution_count": 11,
   "metadata": {},
   "outputs": [
    {
     "name": "stdout",
     "output_type": "stream",
     "text": [
      "None\n",
      "None\n"
     ]
    }
   ],
   "source": [
    "\"\"\"\n",
    "So let's implement a bucketing function using the python hash function and the module operation\n",
    "the function would get a string or int and the number of buckets, and return the bucket\n",
    "\"\"\"\n",
    "\n",
    "from typing import Union\n",
    "\n",
    "def bucket(key: Union[str,int], number_of_buckets:int):\n",
    "    pass\n",
    "\n",
    "print(bucket(\"Haifa\", 10))\n",
    "print(bucket(\"Israel\", 10))"
   ]
  },
  {
   "cell_type": "code",
   "execution_count": null,
   "metadata": {},
   "outputs": [],
   "source": [
    "# Implementing a hash map (dict)\n",
    "\"\"\"\n",
    "\n",
    "Creates initial list of \"slots\" (buckets)\n",
    "map add to slots with our bucket function\n",
    "get using the hash\n",
    "\"\"\"\n",
    "class HashMap:\n",
    "    def __init__(self):\n",
    "        self.slots = []\n",
    "        self.number_of_buckets = 10\n",
    "    \n",
    "    def add(key, value):\n",
    "        \"\"\"\n",
    "        use the bucket function on key get the the bucket\n",
    "        put the value in self.slots according to the bucket\n",
    "        self.slots[bucket] = value\n",
    "        \"\"\"\n",
    "        pass\n",
    "    \n",
    "    def remove(key):\n",
    "        pass\n",
    "    \n",
    "    def get(key):\n",
    "        \"\"\"\n",
    "        \n",
    "        \"\"\"\n",
    "        pass\n",
    "    \n",
    "mydict = HashMap()\n",
    "mydict.add(\"the answer\", 42)\n",
    "\n",
    "assert mydisct.get(\"the answer\") == 42"
   ]
  },
  {
   "cell_type": "code",
   "execution_count": null,
   "metadata": {},
   "outputs": [],
   "source": [
    "a_dict = {}\n",
    "a_dict[\"alon\"] = 42\n"
   ]
  },
  {
   "cell_type": "code",
   "execution_count": null,
   "metadata": {},
   "outputs": [],
   "source": [
    "# Growing the hash map\n",
    "\"\"\"\n",
    "What happens when we run out of slots?\n",
    "What happens when we have a collusion?\n",
    "\"\"\""
   ]
  },
  {
   "cell_type": "code",
   "execution_count": null,
   "metadata": {},
   "outputs": [],
   "source": [
    "# Key collision"
   ]
  },
  {
   "cell_type": "markdown",
   "metadata": {},
   "source": [
    "## Discussion O complexity for Hashmap\n",
    "\n",
    "* Basically depends on how you implement the bucket"
   ]
  },
  {
   "cell_type": "code",
   "execution_count": null,
   "metadata": {},
   "outputs": [],
   "source": [
    "# Extra : support [] annotation see __getattr__ ___setattr__"
   ]
  },
  {
   "cell_type": "markdown",
   "metadata": {},
   "source": [
    "### Read more\n",
    "\n",
    "https://www.geeksforgeeks.org/hash-map-in-python/"
   ]
  }
 ],
 "metadata": {
  "kernelspec": {
   "display_name": "Python 3",
   "language": "python",
   "name": "python3"
  },
  "language_info": {
   "codemirror_mode": {
    "name": "ipython",
    "version": 3
   },
   "file_extension": ".py",
   "mimetype": "text/x-python",
   "name": "python",
   "nbconvert_exporter": "python",
   "pygments_lexer": "ipython3",
   "version": "3.8.1"
  }
 },
 "nbformat": 4,
 "nbformat_minor": 4
}
