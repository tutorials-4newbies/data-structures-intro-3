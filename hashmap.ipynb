{
 "cells": [
  {
   "cell_type": "markdown",
   "metadata": {},
   "source": [
    "# Hashmap\n",
    "\n",
    "> Hash maps are indexed data structures. A hash map makes use of a hash function to compute an index with a key into an array of buckets or slots. Its value is mapped to the bucket with the corresponding index. The key is unique and immutable. Think of a hash map as a cabinet having drawers with labels for the things stored in them."
   ]
  },
  {
   "cell_type": "markdown",
   "metadata": {},
   "source": [
    "## Hashing?\n",
    "\n",
    "defined as\n",
    "> \"A hash function is any function that can be used to map data of arbitrary size to fixed-size values. The values returned by a hash function are called hash values\" \n",
    "\n",
    "* A hashing function should be consistent (always returning the same number for the same input)\n",
    "\n",
    "* A good hashing function for our needs here would provide a high variability of values"
   ]
  },
  {
   "cell_type": "code",
   "execution_count": 5,
   "metadata": {},
   "outputs": [
    {
     "name": "stdout",
     "output_type": "stream",
     "text": [
      "-2422215460573282236\n"
     ]
    },
    {
     "data": {
      "text/plain": [
       "True"
      ]
     },
     "execution_count": 5,
     "metadata": {},
     "output_type": "execute_result"
    }
   ],
   "source": [
    "# The python builtin hash\n",
    "\n",
    "print(hash(\"whoami\"))\n",
    "\n",
    "hash(\"whoami\") == hash(\"whoami\")"
   ]
  },
  {
   "cell_type": "markdown",
   "metadata": {},
   "source": [
    "## Hashing => bucketing\n",
    "\n",
    "* If hashing provides a consistent value - how can we map it to a \"bucket\" ? \n",
    "\n",
    "* Using [modulo](https://realpython.com/python-modulo-operator/) operator"
   ]
  },
  {
   "cell_type": "markdown",
   "metadata": {},
   "source": [
    "## Modulo math\n",
    "\n",
    "The term modulo comes from a branch of mathematics called modular arithmetic. Modular arithmetic deals with integer arithmetic on a circular number line that has a fixed set of numbers. All arithmetic operations performed on this number line will wrap around when they reach a certain number called the modulus.\n",
    "\n",
    "A classic example of modulo in modular arithmetic is the twelve-hour clock. A twelve-hour clock has a fixed set of values, from 1 to 12. When counting on a twelve-hour clock, you count up to the modulus 12 and then wrap back to 1. A twelve-hour clock can be classified as “modulo 12,” sometimes shortened to “mod 12.”\n",
    "\n",
    " \n",
    "![clock](./imgs/clock.gif)\n",
    "\n",
    "How much is 7 + 7 on a 12 hour clock?\n",
    "\n",
    "![tick tock](./imgs/tictock.gif)"
   ]
  },
  {
   "cell_type": "code",
   "execution_count": 7,
   "metadata": {},
   "outputs": [
    {
     "name": "stdout",
     "output_type": "stream",
     "text": [
      "7\n",
      "2\n",
      "7\n",
      "0\n"
     ]
    }
   ],
   "source": [
    "# modulo\n",
    "\n",
    "print(7 % 10)\n",
    "\n",
    "print(12 % 10)\n",
    "\n",
    "print(17 % 10)\n",
    "\n",
    "print(20 % 10)"
   ]
  },
  {
   "cell_type": "markdown",
   "metadata": {},
   "source": [
    "## Bucketing \n",
    "\n",
    "Maping of an unlimited range of numbers to a limited range of buckets\n",
    "\n",
    "```python\n",
    "ages = [1, 3, 9, 16, 22, 45,46,48]\n",
    "\n",
    "buckets = {\n",
    "\"0-18\":[1, 3, 9, 16],\n",
    "\"18-30\":[22],\n",
    "\"31-50\":[45,46,48]\n",
    "\n",
    "}\n",
    "```\n"
   ]
  },
  {
   "cell_type": "code",
   "execution_count": 11,
   "metadata": {},
   "outputs": [
    {
     "name": "stdout",
     "output_type": "stream",
     "text": [
      "None\n",
      "None\n"
     ]
    }
   ],
   "source": [
    "\"\"\"\n",
    "So let's implement a bucketing function using the python hash function and the module operation\n",
    "the function would get a string or int and the number of buckets, and return the bucket\n",
    "\"\"\"\n",
    "\n",
    "from typing import Union\n",
    "\n",
    "def bucket(value: Union[str,int], number_of_buckets:int):\n",
    "    pass\n",
    "\n",
    "print(bucket(\"Haifa\", 10))\n",
    "print(bucket(\"Israel\", 10))"
   ]
  },
  {
   "cell_type": "code",
   "execution_count": null,
   "metadata": {},
   "outputs": [],
   "source": [
    "# Implementing a hash map (dict)\n",
    "\"\"\"\n",
    "\n",
    "Creates initial list of \"slots\" (buckets)\n",
    "map add to slots with our bucket function\n",
    "get using the hash\n",
    "\"\"\"\n",
    "class HashMap:\n",
    "    def __init__(self):\n",
    "        pass\n",
    "    \n",
    "    def add(key, value):\n",
    "        pass\n",
    "    \n",
    "    def remove(key):\n",
    "        pass\n",
    "    \n",
    "    def get(key):\n",
    "        pass\n",
    "    \n",
    "    "
   ]
  },
  {
   "cell_type": "code",
   "execution_count": null,
   "metadata": {},
   "outputs": [],
   "source": [
    "# Growing the hash map\n",
    "\"\"\"\n",
    "What happens when we run out of slots?\n",
    "What happens when we have a collusion?\n",
    "\"\"\""
   ]
  },
  {
   "cell_type": "code",
   "execution_count": null,
   "metadata": {},
   "outputs": [],
   "source": [
    "# Key collision"
   ]
  },
  {
   "cell_type": "markdown",
   "metadata": {},
   "source": [
    "## Discussion O complexity for Hashmap\n",
    "\n",
    "* Basically depends on how you implement the bucket"
   ]
  },
  {
   "cell_type": "code",
   "execution_count": null,
   "metadata": {},
   "outputs": [],
   "source": [
    "# Extra : support [] annotation see __getattr__ ___setattr__"
   ]
  },
  {
   "cell_type": "markdown",
   "metadata": {},
   "source": [
    "### Read more\n",
    "\n",
    "https://www.geeksforgeeks.org/hash-map-in-python/"
   ]
  }
 ],
 "metadata": {
  "kernelspec": {
   "display_name": "Python 3",
   "language": "python",
   "name": "python3"
  },
  "language_info": {
   "codemirror_mode": {
    "name": "ipython",
    "version": 3
   },
   "file_extension": ".py",
   "mimetype": "text/x-python",
   "name": "python",
   "nbconvert_exporter": "python",
   "pygments_lexer": "ipython3",
   "version": "3.8.1"
  }
 },
 "nbformat": 4,
 "nbformat_minor": 4
}
