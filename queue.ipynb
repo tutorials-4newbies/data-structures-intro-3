{
 "cells": [
  {
   "cell_type": "markdown",
   "metadata": {},
   "source": [
    "# What is a queue\n",
    "\n",
    "A queue is an ordered collection of items where the addition of new items happens at one end, called the “rear,” and the removal of existing items occurs at the other end, commonly called the “front.” As an element enters the queue it starts at the rear and makes its way toward the front, waiting until that time when it is the next element to be removed.\n",
    "\n",
    "The most recently added item in the queue must wait at the end of the collection. The item that has been in the collection the longest is at the front. This ordering principle is sometimes called FIFO, first-in first-out. It is also known as “first-come first-served.”\n",
    "\n",
    "from [here](https://bradfieldcs.com/algos/queues/introduction/)"
   ]
  },
  {
   "cell_type": "markdown",
   "metadata": {},
   "source": [
    "The simplest example of a queue is the typical line that we all participate in from time to time. We wait in a line for a movie, we wait in the check-out line at a grocery store, and we wait in the cafeteria line (so that we can pop the tray stack). Well-behaved lines, or queues, are very restrictive in that they have only one way in and only one way out. There is no jumping in the middle and no leaving before you have waited the necessary amount of time to get to the front.\n",
    "\n",
    "![soviet line](./imgs/soviet-union-queues.png)"
   ]
  },
  {
   "cell_type": "code",
   "execution_count": 2,
   "metadata": {},
   "outputs": [
    {
     "data": {
      "text/html": [
       "<img src=\"./imgs/stock-vector-fifo.jpg\" width=\"600\"/>"
      ],
      "text/plain": [
       "<IPython.core.display.Image object>"
      ]
     },
     "execution_count": 2,
     "metadata": {},
     "output_type": "execute_result"
    }
   ],
   "source": [
    "from IPython.display import Image\n",
    "Image(url='./imgs/stock-vector-fifo.jpg', width=600)"
   ]
  },
  {
   "cell_type": "code",
   "execution_count": null,
   "metadata": {},
   "outputs": [],
   "source": [
    "# General interface of queue\n",
    "\n",
    "class Queue:\n",
    "    def __init__(self):\n",
    "        pass\n",
    "    \n",
    "    def enqueue(self, item):\n",
    "        \"\"\"\n",
    "        adds a new item to the rear of the queue. It needs the item and returns nothing.\n",
    "        \"\"\"\n",
    "        pass\n",
    "    def dequeue(self):\n",
    "        \"\"\"\n",
    "        removes the front item from the queue. It needs no parameters and returns the item. The queue is modified.\n",
    "        \"\"\"\n",
    "        pass\n",
    "    def is_empty(self):\n",
    "        \"\"\"\n",
    "        tests to see whether the queue is empty. It needs no parameters and returns a boolean value.\n",
    "        \"\"\"\n",
    "        pass\n",
    "    def size(self):\n",
    "        \"\"\"returns the number of items in the queue. It needs no parameters and returns an integer.\"\"\"\n",
    "        pass"
   ]
  },
  {
   "cell_type": "code",
   "execution_count": null,
   "metadata": {},
   "outputs": [],
   "source": [
    "# Implementing a queue with a list\n",
    "\n",
    "\"\"\"\n",
    "Hint: lookup list methods in python \n",
    "\"\"\"\n",
    "\n",
    "class Queue:\n",
    "    def __init__(self):\n",
    "        def _queue = []\n",
    "    \n",
    "    def enqueue(self, item):\n",
    "        \"\"\"\n",
    "        adds a new item to the rear of the queue. It needs the item and returns nothing.\n",
    "        \"\"\"\n",
    "        pass\n",
    "    def dequeue(self):\n",
    "        \"\"\"\n",
    "        removes the front item from the queue. It needs no parameters and returns the item. The queue is modified.\n",
    "        \"\"\"\n",
    "        pass\n",
    "    def is_empty(self)->bool:\n",
    "        \"\"\"\n",
    "        tests to see whether the queue is empty. It needs no parameters and returns a boolean value.\n",
    "        \"\"\"\n",
    "        pass\n",
    "    def size(self)->int:\n",
    "        \"\"\"returns the number of items in the queue. It needs no parameters and returns an integer.\"\"\"\n",
    "        pass\n",
    "\n",
    "# Test your code\n",
    "q = Queue()\n",
    "assert q.size == 0\n",
    "assert q.is_empty\n",
    "\n",
    "q.enqueue(\"Noal\")\n",
    "q.enqueue(\"Dror\")\n",
    "\n",
    "assert q.size == 2\n",
    "assert q.is_empty == False\n",
    "\n",
    "res = q.dequeue()\n",
    "\n",
    "assert res == \"Noal\"\n",
    "assert q.size == 1\n"
   ]
  },
  {
   "cell_type": "markdown",
   "metadata": {},
   "source": [
    "## Discussing algo complexity for this implementation\n",
    "\n",
    "* What is the O complexity for dequeue?\n",
    "* What is the 0 complexity for enqueue?"
   ]
  },
  {
   "cell_type": "markdown",
   "metadata": {},
   "source": [
    "## Python built in queue\n",
    "\n",
    "Python actually has a built in queue type, *[Deque](https://docs.python.org/3/library/collections.html#collections.deque)\n",
    "Which stands for double sided queue - basically it can operate from both sides\n",
    "\n",
    "Why use it?\n",
    ">Though list objects support similar operations, they are optimized for fast fixed-length operations and incur O(n) memory movement costs for pop(0) and insert(0, v) operations which change both the size and position of the underlying data representation.\n",
    "\n",
    "\n",
    "### TASK: Replace your previous list based queue implementation with deque"
   ]
  },
  {
   "cell_type": "code",
   "execution_count": null,
   "metadata": {},
   "outputs": [],
   "source": [
    "# Playing hot potato / Building a round robin machine\n",
    "\n",
    "def hot_potato(participants:list[str], number)->:\n",
    "    \"\"\"\n",
    "    Implement hot potator with a queue. a circular queue\n",
    "    \"\"\"\n",
    "    pass\n",
    "\n",
    "out_player = hot_potato(['Bill', 'David', 'Susan', 'Jane', 'Kent', 'Brad'], 9)\n",
    "\n",
    "assert out_player == \"David\""
   ]
  },
  {
   "cell_type": "code",
   "execution_count": null,
   "metadata": {},
   "outputs": [],
   "source": []
  }
 ],
 "metadata": {
  "kernelspec": {
   "display_name": "Python 3",
   "language": "python",
   "name": "python3"
  },
  "language_info": {
   "codemirror_mode": {
    "name": "ipython",
    "version": 3
   },
   "file_extension": ".py",
   "mimetype": "text/x-python",
   "name": "python",
   "nbconvert_exporter": "python",
   "pygments_lexer": "ipython3",
   "version": "3.8.1"
  }
 },
 "nbformat": 4,
 "nbformat_minor": 4
}
